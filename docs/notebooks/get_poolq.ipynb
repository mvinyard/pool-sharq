{
 "cells": [
  {
   "cell_type": "markdown",
   "id": "3d063312",
   "metadata": {},
   "source": [
    "### Grand scheme:\n",
    "\n",
    "Write a python package that looks for the latest verison of poolq and then runs an executable for poolq"
   ]
  },
  {
   "cell_type": "code",
   "execution_count": 1,
   "id": "357ad808",
   "metadata": {},
   "outputs": [
    {
     "data": {
      "application/javascript": [
       "\n",
       "            setTimeout(function() {\n",
       "                var nbb_cell_id = 1;\n",
       "                var nbb_unformatted_code = \"%load_ext nb_black\\n\\nfrom _poolq_downloader import _look_for_poolq\";\n",
       "                var nbb_formatted_code = \"%load_ext nb_black\\n\\nfrom _poolq_downloader import _look_for_poolq\";\n",
       "                var nbb_cells = Jupyter.notebook.get_cells();\n",
       "                for (var i = 0; i < nbb_cells.length; ++i) {\n",
       "                    if (nbb_cells[i].input_prompt_number == nbb_cell_id) {\n",
       "                        if (nbb_cells[i].get_text() == nbb_unformatted_code) {\n",
       "                             nbb_cells[i].set_text(nbb_formatted_code);\n",
       "                        }\n",
       "                        break;\n",
       "                    }\n",
       "                }\n",
       "            }, 500);\n",
       "            "
      ],
      "text/plain": [
       "<IPython.core.display.Javascript object>"
      ]
     },
     "metadata": {},
     "output_type": "display_data"
    }
   ],
   "source": [
    "%load_ext nb_black\n",
    "\n",
    "from _poolq_downloader import _look_for_poolq"
   ]
  },
  {
   "cell_type": "code",
   "execution_count": 2,
   "id": "2e823ab6",
   "metadata": {},
   "outputs": [
    {
     "name": "stdout",
     "output_type": "stream",
     "text": [
      "Latest version: \u001b[1m\u001b[96m3.3.2\u001b[0m\n",
      "Latest installation of poolq: poolq-3.3.2 installed.\n"
     ]
    },
    {
     "data": {
      "application/javascript": [
       "\n",
       "            setTimeout(function() {\n",
       "                var nbb_cell_id = 2;\n",
       "                var nbb_unformatted_code = \"_look_for_poolq(path = \\\"/Users/mvinyard/Desktop/\\\")\";\n",
       "                var nbb_formatted_code = \"_look_for_poolq(path=\\\"/Users/mvinyard/Desktop/\\\")\";\n",
       "                var nbb_cells = Jupyter.notebook.get_cells();\n",
       "                for (var i = 0; i < nbb_cells.length; ++i) {\n",
       "                    if (nbb_cells[i].input_prompt_number == nbb_cell_id) {\n",
       "                        if (nbb_cells[i].get_text() == nbb_unformatted_code) {\n",
       "                             nbb_cells[i].set_text(nbb_formatted_code);\n",
       "                        }\n",
       "                        break;\n",
       "                    }\n",
       "                }\n",
       "            }, 500);\n",
       "            "
      ],
      "text/plain": [
       "<IPython.core.display.Javascript object>"
      ]
     },
     "metadata": {},
     "output_type": "display_data"
    }
   ],
   "source": [
    "_look_for_poolq(path=\"/Users/mvinyard/Desktop/\")"
   ]
  },
  {
   "cell_type": "code",
   "execution_count": null,
   "id": "6adaec29",
   "metadata": {},
   "outputs": [],
   "source": []
  }
 ],
 "metadata": {
  "kernelspec": {
   "display_name": "Python [conda env:crispr]",
   "language": "python",
   "name": "conda-env-crispr-py"
  },
  "language_info": {
   "codemirror_mode": {
    "name": "ipython",
    "version": 3
   },
   "file_extension": ".py",
   "mimetype": "text/x-python",
   "name": "python",
   "nbconvert_exporter": "python",
   "pygments_lexer": "ipython3",
   "version": "3.7.12"
  }
 },
 "nbformat": 4,
 "nbformat_minor": 5
}
