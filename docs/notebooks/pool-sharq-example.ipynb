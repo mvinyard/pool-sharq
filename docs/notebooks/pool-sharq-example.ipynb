{
 "cells": [
  {
   "cell_type": "code",
   "execution_count": 1,
   "id": "5645972b",
   "metadata": {
    "scrolled": true
   },
   "outputs": [
    {
     "name": "stdout",
     "output_type": "stream",
     "text": [
      "Latest version of poolq: \u001b[1m\u001b[96m3.3.2\u001b[0m\n",
      "\n",
      "Latest installation of poolq: poolq-3.3.2 previously installed.\n"
     ]
    },
    {
     "data": {
      "application/javascript": [
       "\n",
       "            setTimeout(function() {\n",
       "                var nbb_cell_id = 1;\n",
       "                var nbb_unformatted_code = \"%load_ext nb_black\\n\\nimport pool_sharq\\nimport os\";\n",
       "                var nbb_formatted_code = \"%load_ext nb_black\\n\\nimport pool_sharq\\nimport os\";\n",
       "                var nbb_cells = Jupyter.notebook.get_cells();\n",
       "                for (var i = 0; i < nbb_cells.length; ++i) {\n",
       "                    if (nbb_cells[i].input_prompt_number == nbb_cell_id) {\n",
       "                        if (nbb_cells[i].get_text() == nbb_unformatted_code) {\n",
       "                             nbb_cells[i].set_text(nbb_formatted_code);\n",
       "                        }\n",
       "                        break;\n",
       "                    }\n",
       "                }\n",
       "            }, 500);\n",
       "            "
      ],
      "text/plain": [
       "<IPython.core.display.Javascript object>"
      ]
     },
     "metadata": {},
     "output_type": "display_data"
    }
   ],
   "source": [
    "%load_ext nb_black\n",
    "\n",
    "import pool_sharq\n",
    "import os"
   ]
  },
  {
   "cell_type": "code",
   "execution_count": 2,
   "id": "ae443826",
   "metadata": {},
   "outputs": [
    {
     "name": "stdout",
     "output_type": "stream",
     "text": [
      "\n",
      "Downloading...\n"
     ]
    },
    {
     "data": {
      "application/vnd.jupyter.widget-view+json": {
       "model_id": "633d5f04c6d4443293a846da860332e6",
       "version_major": 2,
       "version_minor": 0
      },
      "text/plain": [
       "  0%|          | 0/43670713 [00:00<?, ?B/s]"
      ]
     },
     "metadata": {},
     "output_type": "display_data"
    },
    {
     "data": {
      "application/javascript": [
       "\n",
       "            setTimeout(function() {\n",
       "                var nbb_cell_id = 2;\n",
       "                var nbb_unformatted_code = \"pool_sharq.download_test_data()\\npoolq = pool_sharq.poolq()\\ndata_dir = \\\"/Users/mvinyard/github/pool-sharq/pool_sharq/_tests/\\\"\";\n",
       "                var nbb_formatted_code = \"pool_sharq.download_test_data()\\npoolq = pool_sharq.poolq()\\ndata_dir = \\\"/Users/mvinyard/github/pool-sharq/pool_sharq/_tests/\\\"\";\n",
       "                var nbb_cells = Jupyter.notebook.get_cells();\n",
       "                for (var i = 0; i < nbb_cells.length; ++i) {\n",
       "                    if (nbb_cells[i].input_prompt_number == nbb_cell_id) {\n",
       "                        if (nbb_cells[i].get_text() == nbb_unformatted_code) {\n",
       "                             nbb_cells[i].set_text(nbb_formatted_code);\n",
       "                        }\n",
       "                        break;\n",
       "                    }\n",
       "                }\n",
       "            }, 500);\n",
       "            "
      ],
      "text/plain": [
       "<IPython.core.display.Javascript object>"
      ]
     },
     "metadata": {},
     "output_type": "display_data"
    }
   ],
   "source": [
    "pool_sharq.download_test_data()\n",
    "poolq = pool_sharq.poolq()\n",
    "data_dir = \"/Users/mvinyard/github/pool-sharq/pool_sharq/_tests/\""
   ]
  },
  {
   "cell_type": "code",
   "execution_count": 3,
   "id": "d6dda4f3",
   "metadata": {
    "scrolled": false
   },
   "outputs": [
    {
     "name": "stdout",
     "output_type": "stream",
     "text": [
      "\u001b[1m\u001b[96mPoolQ executable:\u001b[0m\n",
      "\u001b[1m\u001b[96m-----------------\u001b[0m \n",
      "\n",
      "bash /Users/mvinyard/github/pool-sharq/pool_sharq/_distribution/poolq-3.3.2/poolq3.sh \n",
      "\t--row-reference /Users/mvinyard/github/pool-sharq/pool_sharq/_tests/reference.csv  \\ \n",
      "\t--col-reference /Users/mvinyard/github/pool-sharq/pool_sharq/_tests/conditions.csv  \\ \n",
      "\t--row-reads /Users/mvinyard/github/pool-sharq/pool_sharq/_tests/scenario4/scenario4.1.fastq  \\ \n",
      "\t--col-reads /Users/mvinyard/github/pool-sharq/pool_sharq/_tests/scenario4/scenario4.barcode_1.fastq  \\ \n",
      "\t--row-barcode-policy PREFIX:CACCG@12  \\ \n",
      "\t--col-barcode-policy FIXED:0\n",
      "\n",
      "\u001b[34m[INFO]\u001b[0;39m PoolQ version: 3.3.2\n",
      "\u001b[34m[INFO]\u001b[0;39m PoolQ command-line settings:\n",
      "--row-reference reference.csv \\\n",
      "--col-reference conditions.csv \\\n",
      "--row-reads scenario4.1.fastq \\\n",
      "--col-reads scenario4.barcode_1.fastq \\\n",
      "--row-matcher mismatch \\\n",
      "--col-matcher exact \\\n",
      "--row-barcode-policy PREFIX:CACCG@12 \\\n",
      "--col-barcode-policy FIXED:0 \\\n",
      "--unexpected-sequence-threshold 100 \\\n",
      "--counts counts.txt \\\n",
      "--normalized-counts lognormalized-counts.txt \\\n",
      "--barcode-counts barcode-counts.txt \\\n",
      "--quality quality.txt \\\n",
      "--correlation correlation.txt \\\n",
      "--unexpected-sequences unexpected-sequences.txt \\\n",
      "--run-info runinfo.txt\n",
      "\u001b[34m[INFO]\u001b[0;39m Reading row reference data\n",
      "\u001b[34m[INFO]\u001b[0;39m Reading column reference data\n",
      "\u001b[34m[INFO]\u001b[0;39m Reading global reference data\n",
      "\u001b[34m[INFO]\u001b[0;39m Building row reference\n",
      "\u001b[34m[INFO]\u001b[0;39m Building column reference\n",
      "\u001b[34m[INFO]\u001b[0;39m Writing unexpected sequence cache files to /var/folders/js/_w_cc_td47zg_43lb1kp1jlr0000gq/T/unexpected-sequence-cache2357798445725473231\n",
      "\u001b[34m[INFO]\u001b[0;39m Beginning task processing.\n",
      "\u001b[34m[INFO]\u001b[0;39m Shutting down.\n",
      "\u001b[34m[INFO]\u001b[0;39m Processed 1000 reads in 24 ms (41.666668 reads/ms). Match percent: 100.0; queue size: 0\n",
      "\u001b[34m[INFO]\u001b[0;39m Writing counts file counts.txt\n",
      "\u001b[34m[INFO]\u001b[0;39m Writing quality file quality.txt\n",
      "\u001b[34m[INFO]\u001b[0;39m Writing log-normalized counts file lognormalized-counts.txt\n",
      "\u001b[34m[INFO]\u001b[0;39m Writing barcode counts file barcode-counts.txt\n",
      "\u001b[34m[INFO]\u001b[0;39m Writing correlation file correlation.txt\n",
      "\u001b[34m[INFO]\u001b[0;39m Writing unexpected sequence report unexpected-sequences.txt\n",
      "\u001b[34m[INFO]\u001b[0;39m Removing unexpected sequence cache None\n",
      "\u001b[34m[INFO]\u001b[0;39m Writing run info unexpected-sequences.txt\n",
      "\u001b[34m[INFO]\u001b[0;39m PoolQ complete\n"
     ]
    },
    {
     "data": {
      "application/javascript": [
       "\n",
       "            setTimeout(function() {\n",
       "                var nbb_cell_id = 3;\n",
       "                var nbb_unformatted_code = \"poolq.run(\\n    barcode_file=os.path.join(data_dir, \\\"reference.csv\\\"),\\n    condition_file=os.path.join(data_dir, \\\"conditions.csv\\\"),\\n    barcode_reads=os.path.join(data_dir, \\\"scenario4/scenario4.barcode_1.fastq\\\"),\\n    condition_reads=os.path.join(data_dir, \\\"scenario4/scenario4.1.fastq\\\"),\\n)\";\n",
       "                var nbb_formatted_code = \"poolq.run(\\n    barcode_file=os.path.join(data_dir, \\\"reference.csv\\\"),\\n    condition_file=os.path.join(data_dir, \\\"conditions.csv\\\"),\\n    barcode_reads=os.path.join(data_dir, \\\"scenario4/scenario4.barcode_1.fastq\\\"),\\n    condition_reads=os.path.join(data_dir, \\\"scenario4/scenario4.1.fastq\\\"),\\n)\";\n",
       "                var nbb_cells = Jupyter.notebook.get_cells();\n",
       "                for (var i = 0; i < nbb_cells.length; ++i) {\n",
       "                    if (nbb_cells[i].input_prompt_number == nbb_cell_id) {\n",
       "                        if (nbb_cells[i].get_text() == nbb_unformatted_code) {\n",
       "                             nbb_cells[i].set_text(nbb_formatted_code);\n",
       "                        }\n",
       "                        break;\n",
       "                    }\n",
       "                }\n",
       "            }, 500);\n",
       "            "
      ],
      "text/plain": [
       "<IPython.core.display.Javascript object>"
      ]
     },
     "metadata": {},
     "output_type": "display_data"
    }
   ],
   "source": [
    "poolq.run(\n",
    "    barcode_file=os.path.join(data_dir, \"reference.csv\"),\n",
    "    condition_file=os.path.join(data_dir, \"conditions.csv\"),\n",
    "    barcode_reads=os.path.join(data_dir, \"scenario4/scenario4.barcode_1.fastq\"),\n",
    "    condition_reads=os.path.join(data_dir, \"scenario4/scenario4.1.fastq\"),\n",
    ")"
   ]
  },
  {
   "cell_type": "code",
   "execution_count": null,
   "id": "20fcc5ca",
   "metadata": {},
   "outputs": [],
   "source": []
  }
 ],
 "metadata": {
  "kernelspec": {
   "display_name": "Python [conda env:crispr]",
   "language": "python",
   "name": "conda-env-crispr-py"
  },
  "language_info": {
   "codemirror_mode": {
    "name": "ipython",
    "version": 3
   },
   "file_extension": ".py",
   "mimetype": "text/x-python",
   "name": "python",
   "nbconvert_exporter": "python",
   "pygments_lexer": "ipython3",
   "version": "3.7.12"
  }
 },
 "nbformat": 4,
 "nbformat_minor": 5
}
